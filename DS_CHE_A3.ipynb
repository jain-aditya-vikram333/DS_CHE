{
  "cells": [
    {
      "cell_type": "markdown",
      "metadata": {
        "id": "view-in-github",
        "colab_type": "text"
      },
      "source": [
        "<a href=\"https://colab.research.google.com/github/KiLl-ToXiC333/DS-CHE-/blob/main/210068_Aditya_Vikram_Jain/Assignment%203/DS_CHE_A3.ipynb\" target=\"_parent\"><img src=\"https://colab.research.google.com/assets/colab-badge.svg\" alt=\"Open In Colab\"/></a>"
      ]
    },
    {
      "cell_type": "markdown",
      "id": "82d0cd9f",
      "metadata": {
        "id": "82d0cd9f"
      },
      "source": [
        "# DS-CHE_A3"
      ]
    },
    {
      "cell_type": "code",
      "execution_count": null,
      "id": "59764a58",
      "metadata": {
        "id": "59764a58"
      },
      "outputs": [],
      "source": [
        "import pandas as pd\n",
        "import numpy as np\n",
        "import matplotlib.pyplot as plt\n",
        "from sklearn import datasets, linear_model\n",
        "from sklearn.metrics import mean_squared_error\n",
        "from sklearn.metrics import r2_score"
      ]
    },
    {
      "cell_type": "code",
      "execution_count": null,
      "id": "7b522d7d",
      "metadata": {
        "id": "7b522d7d"
      },
      "outputs": [],
      "source": [
        "df= pd.read_csv('superheated_vapor_properties.csv')"
      ]
    },
    {
      "cell_type": "code",
      "execution_count": null,
      "id": "a7f6e1db",
      "metadata": {
        "id": "a7f6e1db",
        "outputId": "9623508c-d941-4817-b7d3-9d73236e2576"
      },
      "outputs": [
        {
          "data": {
            "text/html": [
              "<div>\n",
              "<style scoped>\n",
              "    .dataframe tbody tr th:only-of-type {\n",
              "        vertical-align: middle;\n",
              "    }\n",
              "\n",
              "    .dataframe tbody tr th {\n",
              "        vertical-align: top;\n",
              "    }\n",
              "\n",
              "    .dataframe thead th {\n",
              "        text-align: right;\n",
              "    }\n",
              "</style>\n",
              "<table border=\"1\" class=\"dataframe\">\n",
              "  <thead>\n",
              "    <tr style=\"text-align: right;\">\n",
              "      <th></th>\n",
              "      <th>Pressure</th>\n",
              "      <th>Property</th>\n",
              "      <th>Liq_Sat</th>\n",
              "      <th>Vap_Sat</th>\n",
              "      <th>75</th>\n",
              "      <th>100</th>\n",
              "      <th>125</th>\n",
              "      <th>150</th>\n",
              "      <th>175</th>\n",
              "      <th>200</th>\n",
              "      <th>...</th>\n",
              "      <th>425</th>\n",
              "      <th>450</th>\n",
              "      <th>475</th>\n",
              "      <th>500</th>\n",
              "      <th>525</th>\n",
              "      <th>550</th>\n",
              "      <th>575</th>\n",
              "      <th>600</th>\n",
              "      <th>625</th>\n",
              "      <th>650</th>\n",
              "    </tr>\n",
              "  </thead>\n",
              "  <tbody>\n",
              "    <tr>\n",
              "      <th>0</th>\n",
              "      <td>1.0</td>\n",
              "      <td>V</td>\n",
              "      <td>1.0000</td>\n",
              "      <td>129200.0000</td>\n",
              "      <td>160640.0000</td>\n",
              "      <td>172180.0000</td>\n",
              "      <td>183720.0000</td>\n",
              "      <td>195270.0000</td>\n",
              "      <td>206810.0000</td>\n",
              "      <td>218350.0000</td>\n",
              "      <td>...</td>\n",
              "      <td>NaN</td>\n",
              "      <td>333730.0000</td>\n",
              "      <td>NaN</td>\n",
              "      <td>356810.0000</td>\n",
              "      <td>NaN</td>\n",
              "      <td>379880.0000</td>\n",
              "      <td>NaN</td>\n",
              "      <td>402960.0000</td>\n",
              "      <td>NaN</td>\n",
              "      <td>426040.0000</td>\n",
              "    </tr>\n",
              "    <tr>\n",
              "      <th>1</th>\n",
              "      <td>1.0</td>\n",
              "      <td>U</td>\n",
              "      <td>29.3340</td>\n",
              "      <td>2385.2000</td>\n",
              "      <td>2480.8000</td>\n",
              "      <td>2516.4000</td>\n",
              "      <td>2552.3000</td>\n",
              "      <td>2588.5000</td>\n",
              "      <td>2624.9000</td>\n",
              "      <td>2661.7000</td>\n",
              "      <td>...</td>\n",
              "      <td>NaN</td>\n",
              "      <td>3049.9000</td>\n",
              "      <td>NaN</td>\n",
              "      <td>3132.4000</td>\n",
              "      <td>NaN</td>\n",
              "      <td>3216.7000</td>\n",
              "      <td>NaN</td>\n",
              "      <td>3302.6000</td>\n",
              "      <td>NaN</td>\n",
              "      <td>3390.3000</td>\n",
              "    </tr>\n",
              "    <tr>\n",
              "      <th>2</th>\n",
              "      <td>1.0</td>\n",
              "      <td>H</td>\n",
              "      <td>29.3350</td>\n",
              "      <td>2514.4000</td>\n",
              "      <td>2641.5000</td>\n",
              "      <td>2688.6000</td>\n",
              "      <td>2736.0000</td>\n",
              "      <td>2783.7000</td>\n",
              "      <td>2831.7000</td>\n",
              "      <td>2880.1000</td>\n",
              "      <td>...</td>\n",
              "      <td>NaN</td>\n",
              "      <td>3383.6000</td>\n",
              "      <td>NaN</td>\n",
              "      <td>3489.2000</td>\n",
              "      <td>NaN</td>\n",
              "      <td>3596.5000</td>\n",
              "      <td>NaN</td>\n",
              "      <td>3705.6000</td>\n",
              "      <td>NaN</td>\n",
              "      <td>3816.4000</td>\n",
              "    </tr>\n",
              "    <tr>\n",
              "      <th>3</th>\n",
              "      <td>1.0</td>\n",
              "      <td>S</td>\n",
              "      <td>0.1060</td>\n",
              "      <td>8.9767</td>\n",
              "      <td>9.3828</td>\n",
              "      <td>9.5136</td>\n",
              "      <td>9.6365</td>\n",
              "      <td>9.7527</td>\n",
              "      <td>9.8629</td>\n",
              "      <td>9.9679</td>\n",
              "      <td>...</td>\n",
              "      <td>NaN</td>\n",
              "      <td>10.8200</td>\n",
              "      <td>NaN</td>\n",
              "      <td>10.9612</td>\n",
              "      <td>NaN</td>\n",
              "      <td>11.0957</td>\n",
              "      <td>NaN</td>\n",
              "      <td>11.2243</td>\n",
              "      <td>NaN</td>\n",
              "      <td>11.3476</td>\n",
              "    </tr>\n",
              "    <tr>\n",
              "      <th>4</th>\n",
              "      <td>10.0</td>\n",
              "      <td>V</td>\n",
              "      <td>1.0100</td>\n",
              "      <td>14670.0000</td>\n",
              "      <td>16030.0000</td>\n",
              "      <td>17190.0000</td>\n",
              "      <td>18350.0000</td>\n",
              "      <td>19510.0000</td>\n",
              "      <td>20660.0000</td>\n",
              "      <td>21820.0000</td>\n",
              "      <td>...</td>\n",
              "      <td>NaN</td>\n",
              "      <td>33370.0000</td>\n",
              "      <td>NaN</td>\n",
              "      <td>35670.0000</td>\n",
              "      <td>NaN</td>\n",
              "      <td>37980.0000</td>\n",
              "      <td>NaN</td>\n",
              "      <td>40290.0000</td>\n",
              "      <td>NaN</td>\n",
              "      <td>42600.0000</td>\n",
              "    </tr>\n",
              "    <tr>\n",
              "      <th>...</th>\n",
              "      <td>...</td>\n",
              "      <td>...</td>\n",
              "      <td>...</td>\n",
              "      <td>...</td>\n",
              "      <td>...</td>\n",
              "      <td>...</td>\n",
              "      <td>...</td>\n",
              "      <td>...</td>\n",
              "      <td>...</td>\n",
              "      <td>...</td>\n",
              "      <td>...</td>\n",
              "      <td>...</td>\n",
              "      <td>...</td>\n",
              "      <td>...</td>\n",
              "      <td>...</td>\n",
              "      <td>...</td>\n",
              "      <td>...</td>\n",
              "      <td>...</td>\n",
              "      <td>...</td>\n",
              "      <td>...</td>\n",
              "      <td>...</td>\n",
              "    </tr>\n",
              "    <tr>\n",
              "      <th>539</th>\n",
              "      <td>11200.0</td>\n",
              "      <td>S</td>\n",
              "      <td>3.4440</td>\n",
              "      <td>5.5476</td>\n",
              "      <td>NaN</td>\n",
              "      <td>NaN</td>\n",
              "      <td>NaN</td>\n",
              "      <td>NaN</td>\n",
              "      <td>NaN</td>\n",
              "      <td>NaN</td>\n",
              "      <td>...</td>\n",
              "      <td>6.2491</td>\n",
              "      <td>6.3515</td>\n",
              "      <td>6.4452</td>\n",
              "      <td>6.5324</td>\n",
              "      <td>6.6147</td>\n",
              "      <td>6.6929</td>\n",
              "      <td>6.7679</td>\n",
              "      <td>6.8401</td>\n",
              "      <td>6.9099</td>\n",
              "      <td>6.9777</td>\n",
              "    </tr>\n",
              "    <tr>\n",
              "      <th>540</th>\n",
              "      <td>11400.0</td>\n",
              "      <td>V</td>\n",
              "      <td>1.5040</td>\n",
              "      <td>15.2840</td>\n",
              "      <td>NaN</td>\n",
              "      <td>NaN</td>\n",
              "      <td>NaN</td>\n",
              "      <td>NaN</td>\n",
              "      <td>NaN</td>\n",
              "      <td>NaN</td>\n",
              "      <td>...</td>\n",
              "      <td>24.1040</td>\n",
              "      <td>25.5990</td>\n",
              "      <td>27.0100</td>\n",
              "      <td>28.3590</td>\n",
              "      <td>29.6610</td>\n",
              "      <td>30.9250</td>\n",
              "      <td>32.1600</td>\n",
              "      <td>33.3700</td>\n",
              "      <td>34.5600</td>\n",
              "      <td>35.7330</td>\n",
              "    </tr>\n",
              "    <tr>\n",
              "      <th>541</th>\n",
              "      <td>11400.0</td>\n",
              "      <td>U</td>\n",
              "      <td>1450.0000</td>\n",
              "      <td>2527.2000</td>\n",
              "      <td>NaN</td>\n",
              "      <td>NaN</td>\n",
              "      <td>NaN</td>\n",
              "      <td>NaN</td>\n",
              "      <td>NaN</td>\n",
              "      <td>NaN</td>\n",
              "      <td>...</td>\n",
              "      <td>2873.1000</td>\n",
              "      <td>2929.4000</td>\n",
              "      <td>2982.6000</td>\n",
              "      <td>3033.9000</td>\n",
              "      <td>3083.9000</td>\n",
              "      <td>3133.1000</td>\n",
              "      <td>3181.9000</td>\n",
              "      <td>3230.4000</td>\n",
              "      <td>3278.8000</td>\n",
              "      <td>3327.2000</td>\n",
              "    </tr>\n",
              "    <tr>\n",
              "      <th>542</th>\n",
              "      <td>11400.0</td>\n",
              "      <td>H</td>\n",
              "      <td>1467.2000</td>\n",
              "      <td>2701.5000</td>\n",
              "      <td>NaN</td>\n",
              "      <td>NaN</td>\n",
              "      <td>NaN</td>\n",
              "      <td>NaN</td>\n",
              "      <td>NaN</td>\n",
              "      <td>NaN</td>\n",
              "      <td>...</td>\n",
              "      <td>3147.9000</td>\n",
              "      <td>3221.2000</td>\n",
              "      <td>3290.5000</td>\n",
              "      <td>3357.2000</td>\n",
              "      <td>3422.1000</td>\n",
              "      <td>3485.7000</td>\n",
              "      <td>3548.5000</td>\n",
              "      <td>3610.8000</td>\n",
              "      <td>3672.8000</td>\n",
              "      <td>3734.6000</td>\n",
              "    </tr>\n",
              "    <tr>\n",
              "      <th>543</th>\n",
              "      <td>11400.0</td>\n",
              "      <td>S</td>\n",
              "      <td>3.4575</td>\n",
              "      <td>5.5357</td>\n",
              "      <td>NaN</td>\n",
              "      <td>NaN</td>\n",
              "      <td>NaN</td>\n",
              "      <td>NaN</td>\n",
              "      <td>NaN</td>\n",
              "      <td>NaN</td>\n",
              "      <td>...</td>\n",
              "      <td>6.2367</td>\n",
              "      <td>6.3399</td>\n",
              "      <td>6.4341</td>\n",
              "      <td>6.5218</td>\n",
              "      <td>6.6043</td>\n",
              "      <td>6.6828</td>\n",
              "      <td>6.7580</td>\n",
              "      <td>6.8304</td>\n",
              "      <td>6.9004</td>\n",
              "      <td>6.9683</td>\n",
              "    </tr>\n",
              "  </tbody>\n",
              "</table>\n",
              "<p>544 rows × 37 columns</p>\n",
              "</div>"
            ],
            "text/plain": [
              "     Pressure Property    Liq_Sat      Vap_Sat           75          100  \\\n",
              "0         1.0        V     1.0000  129200.0000  160640.0000  172180.0000   \n",
              "1         1.0        U    29.3340    2385.2000    2480.8000    2516.4000   \n",
              "2         1.0        H    29.3350    2514.4000    2641.5000    2688.6000   \n",
              "3         1.0        S     0.1060       8.9767       9.3828       9.5136   \n",
              "4        10.0        V     1.0100   14670.0000   16030.0000   17190.0000   \n",
              "..        ...      ...        ...          ...          ...          ...   \n",
              "539   11200.0        S     3.4440       5.5476          NaN          NaN   \n",
              "540   11400.0        V     1.5040      15.2840          NaN          NaN   \n",
              "541   11400.0        U  1450.0000    2527.2000          NaN          NaN   \n",
              "542   11400.0        H  1467.2000    2701.5000          NaN          NaN   \n",
              "543   11400.0        S     3.4575       5.5357          NaN          NaN   \n",
              "\n",
              "             125          150          175          200  ...        425  \\\n",
              "0    183720.0000  195270.0000  206810.0000  218350.0000  ...        NaN   \n",
              "1      2552.3000    2588.5000    2624.9000    2661.7000  ...        NaN   \n",
              "2      2736.0000    2783.7000    2831.7000    2880.1000  ...        NaN   \n",
              "3         9.6365       9.7527       9.8629       9.9679  ...        NaN   \n",
              "4     18350.0000   19510.0000   20660.0000   21820.0000  ...        NaN   \n",
              "..           ...          ...          ...          ...  ...        ...   \n",
              "539          NaN          NaN          NaN          NaN  ...     6.2491   \n",
              "540          NaN          NaN          NaN          NaN  ...    24.1040   \n",
              "541          NaN          NaN          NaN          NaN  ...  2873.1000   \n",
              "542          NaN          NaN          NaN          NaN  ...  3147.9000   \n",
              "543          NaN          NaN          NaN          NaN  ...     6.2367   \n",
              "\n",
              "             450        475          500        525          550        575  \\\n",
              "0    333730.0000        NaN  356810.0000        NaN  379880.0000        NaN   \n",
              "1      3049.9000        NaN    3132.4000        NaN    3216.7000        NaN   \n",
              "2      3383.6000        NaN    3489.2000        NaN    3596.5000        NaN   \n",
              "3        10.8200        NaN      10.9612        NaN      11.0957        NaN   \n",
              "4     33370.0000        NaN   35670.0000        NaN   37980.0000        NaN   \n",
              "..           ...        ...          ...        ...          ...        ...   \n",
              "539       6.3515     6.4452       6.5324     6.6147       6.6929     6.7679   \n",
              "540      25.5990    27.0100      28.3590    29.6610      30.9250    32.1600   \n",
              "541    2929.4000  2982.6000    3033.9000  3083.9000    3133.1000  3181.9000   \n",
              "542    3221.2000  3290.5000    3357.2000  3422.1000    3485.7000  3548.5000   \n",
              "543       6.3399     6.4341       6.5218     6.6043       6.6828     6.7580   \n",
              "\n",
              "             600        625          650  \n",
              "0    402960.0000        NaN  426040.0000  \n",
              "1      3302.6000        NaN    3390.3000  \n",
              "2      3705.6000        NaN    3816.4000  \n",
              "3        11.2243        NaN      11.3476  \n",
              "4     40290.0000        NaN   42600.0000  \n",
              "..           ...        ...          ...  \n",
              "539       6.8401     6.9099       6.9777  \n",
              "540      33.3700    34.5600      35.7330  \n",
              "541    3230.4000  3278.8000    3327.2000  \n",
              "542    3610.8000  3672.8000    3734.6000  \n",
              "543       6.8304     6.9004       6.9683  \n",
              "\n",
              "[544 rows x 37 columns]"
            ]
          },
          "execution_count": 3,
          "metadata": {},
          "output_type": "execute_result"
        }
      ],
      "source": [
        "df"
      ]
    },
    {
      "cell_type": "code",
      "execution_count": null,
      "id": "f62f03c4",
      "metadata": {
        "id": "f62f03c4"
      },
      "outputs": [],
      "source": [
        "df1=df.loc[(df['Property']=='V')&(df['Pressure']<=300)]['Liq_Sat'][:-8]\n"
      ]
    },
    {
      "cell_type": "code",
      "execution_count": null,
      "id": "e10f35df",
      "metadata": {
        "id": "e10f35df",
        "outputId": "6c1d4e6b-8ed4-4e40-8178-266acc85acec"
      },
      "outputs": [
        {
          "data": {
            "text/plain": [
              "0     1.000\n",
              "4     1.010\n",
              "8     1.017\n",
              "12    1.022\n",
              "16    1.027\n",
              "20    1.030\n",
              "24    1.037\n",
              "28    1.043\n",
              "32    1.044\n",
              "Name: Liq_Sat, dtype: float64"
            ]
          },
          "execution_count": 5,
          "metadata": {},
          "output_type": "execute_result"
        }
      ],
      "source": [
        "df1"
      ]
    },
    {
      "cell_type": "code",
      "execution_count": null,
      "id": "cd74ea41",
      "metadata": {
        "id": "cd74ea41"
      },
      "outputs": [],
      "source": [
        "df2=df.loc[(df['Property']=='V')&((df['Pressure']<=1500)&(df['Pressure']>=300))]['Liq_Sat'][:-19]"
      ]
    },
    {
      "cell_type": "code",
      "execution_count": null,
      "id": "b31f67c3",
      "metadata": {
        "id": "b31f67c3",
        "outputId": "5dfeb654-7650-410c-89d8-781e51f02caa"
      },
      "outputs": [
        {
          "data": {
            "text/plain": [
              "64     1.073\n",
              "68     1.076\n",
              "72     1.079\n",
              "76     1.081\n",
              "80     1.084\n",
              "84     1.086\n",
              "88     1.088\n",
              "92     1.091\n",
              "96     1.093\n",
              "100    1.095\n",
              "104    1.097\n",
              "108    1.099\n",
              "112    1.101\n",
              "116    1.103\n",
              "120    1.105\n",
              "124    1.106\n",
              "128    1.108\n",
              "132    1.110\n",
              "136    1.112\n",
              "140    1.113\n",
              "Name: Liq_Sat, dtype: float64"
            ]
          },
          "execution_count": 7,
          "metadata": {},
          "output_type": "execute_result"
        }
      ],
      "source": [
        "df2"
      ]
    },
    {
      "cell_type": "code",
      "execution_count": null,
      "id": "73137238",
      "metadata": {
        "id": "73137238"
      },
      "outputs": [],
      "source": [
        "df3=df.loc[(df['Property']=='V')&(df['Pressure']>=1500)]['Liq_Sat'][:-40]"
      ]
    },
    {
      "cell_type": "code",
      "execution_count": null,
      "id": "277025fe",
      "metadata": {
        "id": "277025fe",
        "outputId": "9959edb5-ce36-4f13-c42e-3c8ec1a4a713"
      },
      "outputs": [
        {
          "data": {
            "text/plain": [
              "216    1.154\n",
              "220    1.156\n",
              "224    1.159\n",
              "228    1.161\n",
              "232    1.163\n",
              "236    1.166\n",
              "240    1.168\n",
              "244    1.170\n",
              "248    1.172\n",
              "252    1.174\n",
              "256    1.177\n",
              "260    1.181\n",
              "264    1.185\n",
              "268    1.189\n",
              "272    1.193\n",
              "276    1.197\n",
              "280    1.201\n",
              "284    1.205\n",
              "288    1.209\n",
              "292    1.213\n",
              "296    1.216\n",
              "300    1.220\n",
              "304    1.224\n",
              "308    1.227\n",
              "312    1.231\n",
              "316    1.235\n",
              "320    1.238\n",
              "324    1.242\n",
              "328    1.245\n",
              "332    1.249\n",
              "336    1.252\n",
              "340    1.256\n",
              "344    1.259\n",
              "348    1.262\n",
              "352    1.266\n",
              "356    1.269\n",
              "360    1.272\n",
              "364    1.276\n",
              "368    1.279\n",
              "372    1.282\n",
              "376    1.286\n",
              "380    1.289\n",
              "Name: Liq_Sat, dtype: float64"
            ]
          },
          "execution_count": 9,
          "metadata": {},
          "output_type": "execute_result"
        }
      ],
      "source": [
        "df3"
      ]
    },
    {
      "cell_type": "code",
      "execution_count": null,
      "id": "a5512554",
      "metadata": {
        "id": "a5512554"
      },
      "outputs": [],
      "source": [
        "pressure_train1=list(df.loc[(df['Property']=='V')&(df['Pressure']<=300)]['Pressure'])[:-8]"
      ]
    },
    {
      "cell_type": "code",
      "execution_count": null,
      "id": "e0c6dbc2",
      "metadata": {
        "id": "e0c6dbc2"
      },
      "outputs": [],
      "source": [
        "pressure_train1=np.array(pressure_train1)\n"
      ]
    },
    {
      "cell_type": "code",
      "execution_count": null,
      "id": "b194ed9b",
      "metadata": {
        "id": "b194ed9b"
      },
      "outputs": [],
      "source": [
        "volume_train=list(df1)"
      ]
    },
    {
      "cell_type": "code",
      "execution_count": null,
      "id": "3c010621",
      "metadata": {
        "id": "3c010621"
      },
      "outputs": [],
      "source": [
        "volume_train=np.array(volume_train)"
      ]
    },
    {
      "cell_type": "code",
      "execution_count": null,
      "id": "1d920ced",
      "metadata": {
        "id": "1d920ced"
      },
      "outputs": [],
      "source": [
        "model = linear_model.LinearRegression()\n"
      ]
    },
    {
      "cell_type": "code",
      "execution_count": null,
      "id": "ef270881",
      "metadata": {
        "id": "ef270881"
      },
      "outputs": [],
      "source": [
        "pressure_train1= pressure_train1.reshape(-1,1)"
      ]
    },
    {
      "cell_type": "code",
      "execution_count": null,
      "id": "401a8f36",
      "metadata": {
        "id": "401a8f36"
      },
      "outputs": [],
      "source": [
        "volume_train=volume_train.reshape(-1,1)"
      ]
    },
    {
      "cell_type": "code",
      "execution_count": null,
      "id": "eb1d27d7",
      "metadata": {
        "id": "eb1d27d7",
        "outputId": "4dc779e8-ff79-4474-abde-7a7ea6a076b1"
      },
      "outputs": [
        {
          "data": {
            "text/plain": [
              "LinearRegression()"
            ]
          },
          "execution_count": 17,
          "metadata": {},
          "output_type": "execute_result"
        }
      ],
      "source": [
        "model.fit(pressure_train1,volume_train)"
      ]
    },
    {
      "cell_type": "code",
      "execution_count": null,
      "id": "df0dc41b",
      "metadata": {
        "id": "df0dc41b",
        "outputId": "35b287c1-0791-4be7-ec9d-7865be080ae5"
      },
      "outputs": [
        {
          "name": "stdout",
          "output_type": "stream",
          "text": [
            "Weights:  [[0.00038663]]\n"
          ]
        }
      ],
      "source": [
        "print(\"Weights: \",model.coef_)"
      ]
    },
    {
      "cell_type": "code",
      "execution_count": null,
      "id": "892b60fc",
      "metadata": {
        "id": "892b60fc",
        "outputId": "bba20345-c1c0-4be0-8800-2cb9549e7ede"
      },
      "outputs": [
        {
          "name": "stdout",
          "output_type": "stream",
          "text": [
            "Intercepts:  [1.00719828]\n"
          ]
        }
      ],
      "source": [
        "print(\"Intercepts: \",model.intercept_)"
      ]
    },
    {
      "cell_type": "code",
      "execution_count": null,
      "id": "ae4a4063",
      "metadata": {
        "id": "ae4a4063"
      },
      "outputs": [],
      "source": [
        "pressure_test1=list(df.loc[(df['Property']=='V')&(df['Pressure']<=300)]['Pressure'])[-9:]"
      ]
    },
    {
      "cell_type": "code",
      "execution_count": null,
      "id": "a6fe42c9",
      "metadata": {
        "id": "a6fe42c9"
      },
      "outputs": [],
      "source": [
        "pressure_test1=np.array(pressure_test1)"
      ]
    },
    {
      "cell_type": "code",
      "execution_count": null,
      "id": "6e818e97",
      "metadata": {
        "id": "6e818e97"
      },
      "outputs": [],
      "source": [
        "pressure_test1=pressure_test1.reshape(-1,1)"
      ]
    },
    {
      "cell_type": "code",
      "execution_count": null,
      "id": "f7fad9db",
      "metadata": {
        "id": "f7fad9db"
      },
      "outputs": [],
      "source": [
        "volume_pred1=model.predict(pressure_test1)"
      ]
    },
    {
      "cell_type": "code",
      "execution_count": null,
      "id": "586d99b9",
      "metadata": {
        "id": "586d99b9",
        "outputId": "bef1b2e7-fbe4-4cc1-94f2-51d41403825d"
      },
      "outputs": [
        {
          "data": {
            "text/plain": [
              "-17.26666272414709"
            ]
          },
          "execution_count": 24,
          "metadata": {},
          "output_type": "execute_result"
        }
      ],
      "source": [
        "r2_score(volume_train,volume_pred1)"
      ]
    },
    {
      "cell_type": "code",
      "execution_count": null,
      "id": "32e49847",
      "metadata": {
        "id": "32e49847"
      },
      "outputs": [],
      "source": [
        "pressure_train2=list(df.loc[(df['Property']=='V')&((df['Pressure']<=1500)&(df['Pressure']>=300))]['Pressure'])[:-19]"
      ]
    },
    {
      "cell_type": "code",
      "execution_count": null,
      "id": "0280882d",
      "metadata": {
        "id": "0280882d"
      },
      "outputs": [],
      "source": [
        "pressure_train2=np.array(pressure_train2)"
      ]
    },
    {
      "cell_type": "code",
      "execution_count": null,
      "id": "df9c494a",
      "metadata": {
        "id": "df9c494a"
      },
      "outputs": [],
      "source": [
        "volume_train=list(df2)"
      ]
    },
    {
      "cell_type": "code",
      "execution_count": null,
      "id": "82599518",
      "metadata": {
        "id": "82599518"
      },
      "outputs": [],
      "source": [
        "pressure_train2= pressure_train2.reshape(-1,1)"
      ]
    },
    {
      "cell_type": "code",
      "execution_count": null,
      "id": "7b62a185",
      "metadata": {
        "id": "7b62a185"
      },
      "outputs": [],
      "source": [
        "volume_train=np.array(volume_train)"
      ]
    },
    {
      "cell_type": "code",
      "execution_count": null,
      "id": "124ed846",
      "metadata": {
        "id": "124ed846"
      },
      "outputs": [],
      "source": [
        "volume_train=volume_train.reshape(-1,1)"
      ]
    },
    {
      "cell_type": "code",
      "execution_count": null,
      "id": "e4e3a737",
      "metadata": {
        "id": "e4e3a737",
        "outputId": "90e6b953-fb90-4147-98e5-f5ec12fb49e9"
      },
      "outputs": [
        {
          "data": {
            "text/plain": [
              "LinearRegression()"
            ]
          },
          "execution_count": 31,
          "metadata": {},
          "output_type": "execute_result"
        }
      ],
      "source": [
        "model.fit(pressure_train2,volume_train)"
      ]
    },
    {
      "cell_type": "code",
      "execution_count": null,
      "id": "67c5c9d8",
      "metadata": {
        "id": "67c5c9d8",
        "outputId": "ae914bec-3c91-4d65-a573-b459686aef86"
      },
      "outputs": [
        {
          "name": "stdout",
          "output_type": "stream",
          "text": [
            "Weights:  [[8.34887218e-05]]\n"
          ]
        }
      ],
      "source": [
        "print(\"Weights: \",model.coef_)"
      ]
    },
    {
      "cell_type": "code",
      "execution_count": null,
      "id": "c0b3f3a4",
      "metadata": {
        "id": "c0b3f3a4",
        "outputId": "279f8303-4a4d-487b-dbc0-628b9112b5e5"
      },
      "outputs": [
        {
          "name": "stdout",
          "output_type": "stream",
          "text": [
            "Intercepts:  [1.05012481]\n"
          ]
        }
      ],
      "source": [
        "print(\"Intercepts: \",model.intercept_)"
      ]
    },
    {
      "cell_type": "code",
      "execution_count": null,
      "id": "ebbf0622",
      "metadata": {
        "id": "ebbf0622"
      },
      "outputs": [],
      "source": [
        "pressure_test2=list(df.loc[(df['Property']=='V')&(df['Pressure']>=300)&(df['Pressure']<=1500)]['Pressure'])[-20:]"
      ]
    },
    {
      "cell_type": "code",
      "execution_count": null,
      "id": "394a93dd",
      "metadata": {
        "id": "394a93dd"
      },
      "outputs": [],
      "source": [
        "pressure_test2=np.array(pressure_test2)"
      ]
    },
    {
      "cell_type": "code",
      "execution_count": null,
      "id": "c3f688b9",
      "metadata": {
        "id": "c3f688b9"
      },
      "outputs": [],
      "source": [
        "pressure_test2= pressure_test2.reshape(-1,1)"
      ]
    },
    {
      "cell_type": "code",
      "execution_count": null,
      "id": "905a85c1",
      "metadata": {
        "id": "905a85c1"
      },
      "outputs": [],
      "source": [
        "volume_pred2=model.predict(pressure_test2)"
      ]
    },
    {
      "cell_type": "code",
      "execution_count": null,
      "id": "fb5ee83e",
      "metadata": {
        "id": "fb5ee83e",
        "outputId": "7a771487-2ed8-4c9f-b3a5-66cc0ae535a1"
      },
      "outputs": [
        {
          "data": {
            "text/plain": [
              "-13.52822205270276"
            ]
          },
          "execution_count": 38,
          "metadata": {},
          "output_type": "execute_result"
        }
      ],
      "source": [
        "r2_score(volume_train,volume_pred2)"
      ]
    },
    {
      "cell_type": "code",
      "execution_count": null,
      "id": "7f05dc16",
      "metadata": {
        "id": "7f05dc16"
      },
      "outputs": [],
      "source": [
        "pressure_train3=list(df.loc[(df['Property']=='V')&((df['Pressure']>=1500))]['Pressure'])[:-40]"
      ]
    },
    {
      "cell_type": "code",
      "execution_count": null,
      "id": "f76d336e",
      "metadata": {
        "id": "f76d336e"
      },
      "outputs": [],
      "source": [
        "pressure_train3=np.array(pressure_train3)"
      ]
    },
    {
      "cell_type": "code",
      "execution_count": null,
      "id": "afe2d612",
      "metadata": {
        "id": "afe2d612"
      },
      "outputs": [],
      "source": [
        "pressure_train3= pressure_train3.reshape(-1,1)"
      ]
    },
    {
      "cell_type": "code",
      "execution_count": null,
      "id": "a1129e87",
      "metadata": {
        "id": "a1129e87"
      },
      "outputs": [],
      "source": [
        "volume_train=list(df3)"
      ]
    },
    {
      "cell_type": "code",
      "execution_count": null,
      "id": "28da041b",
      "metadata": {
        "id": "28da041b"
      },
      "outputs": [],
      "source": [
        "volume_train=np.array(volume_train)"
      ]
    },
    {
      "cell_type": "code",
      "execution_count": null,
      "id": "1ad60b5a",
      "metadata": {
        "id": "1ad60b5a"
      },
      "outputs": [],
      "source": [
        "volume_train=volume_train.reshape(-1,1)"
      ]
    },
    {
      "cell_type": "code",
      "execution_count": null,
      "id": "cd1e0c40",
      "metadata": {
        "id": "cd1e0c40",
        "outputId": "03c9310e-ef7f-43c4-acaa-65d517570735"
      },
      "outputs": [
        {
          "data": {
            "text/plain": [
              "LinearRegression()"
            ]
          },
          "execution_count": 45,
          "metadata": {},
          "output_type": "execute_result"
        }
      ],
      "source": [
        "model.fit(pressure_train3,volume_train)"
      ]
    },
    {
      "cell_type": "code",
      "execution_count": null,
      "id": "96ad5df0",
      "metadata": {
        "id": "96ad5df0",
        "outputId": "ba8600b3-57b7-41bf-ba51-45c4555eaaec"
      },
      "outputs": [
        {
          "name": "stdout",
          "output_type": "stream",
          "text": [
            "Weights:  [[3.73717949e-05]]\n"
          ]
        }
      ],
      "source": [
        "print(\"Weights: \",model.coef_)"
      ]
    },
    {
      "cell_type": "code",
      "execution_count": null,
      "id": "e470bd03",
      "metadata": {
        "id": "e470bd03",
        "outputId": "5bde919c-dcf7-4f88-a985-f0e49a96987c"
      },
      "outputs": [
        {
          "name": "stdout",
          "output_type": "stream",
          "text": [
            "Intercepts:  [1.10185478]\n"
          ]
        }
      ],
      "source": [
        "print(\"Intercepts: \",model.intercept_)"
      ]
    },
    {
      "cell_type": "code",
      "execution_count": null,
      "id": "4b2d4f79",
      "metadata": {
        "id": "4b2d4f79"
      },
      "outputs": [],
      "source": [
        "pressure_test3=list(df.loc[(df['Property']=='V')&((df['Pressure']>=1500))]['Pressure'])[-42:]"
      ]
    },
    {
      "cell_type": "code",
      "execution_count": null,
      "id": "6f7f20dc",
      "metadata": {
        "id": "6f7f20dc"
      },
      "outputs": [],
      "source": [
        "pressure_test3=np.array(pressure_test3)"
      ]
    },
    {
      "cell_type": "code",
      "execution_count": null,
      "id": "f6107115",
      "metadata": {
        "id": "f6107115"
      },
      "outputs": [],
      "source": [
        "pressure_test3= pressure_test3.reshape(-1,1)"
      ]
    },
    {
      "cell_type": "code",
      "execution_count": null,
      "id": "b5fa18a4",
      "metadata": {
        "id": "b5fa18a4"
      },
      "outputs": [],
      "source": [
        "volume_pred3=model.predict(pressure_test3)"
      ]
    },
    {
      "cell_type": "code",
      "execution_count": null,
      "id": "945da762",
      "metadata": {
        "id": "945da762",
        "outputId": "8fd38aaf-4db1-47cd-ef9b-85a3f140a852"
      },
      "outputs": [
        {
          "data": {
            "text/plain": [
              "-16.285576758114317"
            ]
          },
          "execution_count": 52,
          "metadata": {},
          "output_type": "execute_result"
        }
      ],
      "source": [
        "r2_score(volume_train,volume_pred3)"
      ]
    },
    {
      "cell_type": "code",
      "execution_count": null,
      "id": "c0a2c247",
      "metadata": {
        "id": "c0a2c247"
      },
      "outputs": [],
      "source": []
    }
  ],
  "metadata": {
    "kernelspec": {
      "display_name": "Python 3 (ipykernel)",
      "language": "python",
      "name": "python3"
    },
    "language_info": {
      "codemirror_mode": {
        "name": "ipython",
        "version": 3
      },
      "file_extension": ".py",
      "mimetype": "text/x-python",
      "name": "python",
      "nbconvert_exporter": "python",
      "pygments_lexer": "ipython3",
      "version": "3.7.1"
    },
    "colab": {
      "provenance": [],
      "include_colab_link": true
    }
  },
  "nbformat": 4,
  "nbformat_minor": 5
}